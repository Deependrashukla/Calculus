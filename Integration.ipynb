{
  "nbformat": 4,
  "nbformat_minor": 0,
  "metadata": {
    "colab": {
      "provenance": [],
      "authorship_tag": "ABX9TyO9wKnLsPM3QXkDXOnNzbjP",
      "include_colab_link": true
    },
    "kernelspec": {
      "name": "python3",
      "display_name": "Python 3"
    },
    "language_info": {
      "name": "python"
    }
  },
  "cells": [
    {
      "cell_type": "markdown",
      "metadata": {
        "id": "view-in-github",
        "colab_type": "text"
      },
      "source": [
        "<a href=\"https://colab.research.google.com/github/Deependrashukla/calculus2/blob/main/Integration.ipynb\" target=\"_parent\"><img src=\"https://colab.research.google.com/assets/colab-badge.svg\" alt=\"Open In Colab\"/></a>"
      ]
    },
    {
      "cell_type": "code",
      "source": [
        "from scipy.integrate import quad"
      ],
      "metadata": {
        "id": "KVdZ4lUAs-Vm"
      },
      "execution_count": 6,
      "outputs": []
    },
    {
      "cell_type": "markdown",
      "source": [
        "To find Integration of\n",
        "$$ f(x) = x^2 + 2x + 1$$\n",
        "using scipy.\n"
      ],
      "metadata": {
        "id": "1SjQXTEvyQ3-"
      }
    },
    {
      "cell_type": "code",
      "execution_count": 7,
      "metadata": {
        "colab": {
          "base_uri": "https://localhost:8080/"
        },
        "id": "sQHAPv1uHTTK",
        "outputId": "80993f23-095f-4479-ef65-aff306b4967b"
      },
      "outputs": [
        {
          "output_type": "stream",
          "name": "stdout",
          "text": [
            "the result of the integration is : 8.666666666666668\n",
            "the error estimate is : 9.621932880084691e-14\n"
          ]
        }
      ],
      "source": [
        "def f(x):\n",
        "  return x**2 + 2*x + 1\n",
        "\n",
        "result, error = quad(f, 0, 2)\n",
        "\n",
        "print('the result of the integration is :', result)\n",
        "print('the error estimate is :', error)"
      ]
    },
    {
      "cell_type": "code",
      "source": [
        "def sum (lst):\n",
        "  '''Returns sum of element of given list'''\n",
        "  s = 0\n",
        "  for i in lst:\n",
        "    s = s+i\n",
        "  return s"
      ],
      "metadata": {
        "id": "eoFZbNwzKPRF"
      },
      "execution_count": 8,
      "outputs": []
    },
    {
      "cell_type": "markdown",
      "source": [
        "To find area under curve using Riemann Integral."
      ],
      "metadata": {
        "id": "SbGtZb9K6zrf"
      }
    },
    {
      "cell_type": "code",
      "source": [
        "dx = 0.01\n",
        "area_partitions = []\n",
        "for i in range(200):\n",
        "  tag = i/100 + 0.01   #we are choosing tagged partition \n",
        "  x = f(tag)*dx\n",
        "  area_partitions.append(x)\n",
        "\n",
        "area_curve = sum(area_partitions)\n",
        "print(area_curve)"
      ],
      "metadata": {
        "colab": {
          "base_uri": "https://localhost:8080/"
        },
        "id": "o3J0_49U6bYB",
        "outputId": "0df75430-48e1-4b88-e606-94ce522743c9"
      },
      "execution_count": 9,
      "outputs": [
        {
          "output_type": "stream",
          "name": "stdout",
          "text": [
            "8.706700000000003\n"
          ]
        }
      ]
    },
    {
      "cell_type": "markdown",
      "source": [
        "Here we are integrating f(x) using Trapezoidal rule \n",
        "$$\\intop_{x_{1}}^{x_{2}}f(x)dx=\th[\\frac{f(x_{1})}{2}+\\frac{f(x_{2})}{2}]+(h^{3}...)\n",
        "\t$$"
      ],
      "metadata": {
        "id": "mf7vs7j0zgC1"
      }
    },
    {
      "cell_type": "code",
      "source": [
        "x1 = 0\n",
        "x2 = 2\n",
        "h  = x2-x1\n",
        "area = h*(f(x1)/2+f(x2)/2)\n",
        "print(area)"
      ],
      "metadata": {
        "id": "jVPNzPxLJiSJ",
        "colab": {
          "base_uri": "https://localhost:8080/"
        },
        "outputId": "6d44371d-5a4b-4ef8-b5fa-ba2fc50540bc"
      },
      "execution_count": 10,
      "outputs": [
        {
          "output_type": "stream",
          "name": "stdout",
          "text": [
            "10.0\n"
          ]
        }
      ]
    },
    {
      "cell_type": "markdown",
      "source": [
        "Here we integrated this function using simpson rule.\n",
        "$$\\intop_{x_{1}}^{x_{2}}f(x)dx=\t\\frac{x_{2}-x_{1}}{6}[f(x_{1})+4f(\\frac{x_{2}+x_{1}}{2})+f(x_{2})]\n",
        "\t$$"
      ],
      "metadata": {
        "id": "rORTotCk468e"
      }
    },
    {
      "cell_type": "code",
      "source": [
        "x1 = 0\n",
        "x2 = 2\n",
        "area = ((x2-x1)/6)*(f(x1)+4*f((x2+x1)/2)+f(x2))\n",
        "print(area)"
      ],
      "metadata": {
        "colab": {
          "base_uri": "https://localhost:8080/"
        },
        "id": "uMpFad2k5eL3",
        "outputId": "9242a349-ae10-455a-8258-1e06073ac216"
      },
      "execution_count": 12,
      "outputs": [
        {
          "output_type": "stream",
          "name": "stdout",
          "text": [
            "8.666666666666666\n"
          ]
        }
      ]
    }
  ]
}