{
  "nbformat": 4,
  "nbformat_minor": 0,
  "metadata": {
    "colab": {
      "provenance": [],
      "authorship_tag": "ABX9TyNhND3+ZUDM25FCNXLb0CmR",
      "include_colab_link": true
    },
    "kernelspec": {
      "name": "python3",
      "display_name": "Python 3"
    },
    "language_info": {
      "name": "python"
    }
  },
  "cells": [
    {
      "cell_type": "markdown",
      "metadata": {
        "id": "view-in-github",
        "colab_type": "text"
      },
      "source": [
        "<a href=\"https://colab.research.google.com/github/Deependrashukla/calculus2/blob/main/damping.ipynb\" target=\"_parent\"><img src=\"https://colab.research.google.com/assets/colab-badge.svg\" alt=\"Open In Colab\"/></a>"
      ]
    },
    {
      "cell_type": "code",
      "execution_count": 61,
      "metadata": {
        "id": "wdq14FN7pthI",
        "colab": {
          "base_uri": "https://localhost:8080/"
        },
        "outputId": "a0032b53-5c54-43ca-e89c-fb24242e501a"
      },
      "outputs": [
        {
          "name": "stdout",
          "output_type": "stream",
          "text": [
            "enter a 1\n",
            "enter b 1\n",
            "enter c 20\n",
            "enter x0 1\n",
            "enter v0 1\n"
          ]
        }
      ],
      "source": [
        "#lst = [input()for i in range (5)] lamda = l, alpha = a , beta = B\n",
        "a = float(input('enter a '))\n",
        "b = float(input('enter b '))\n",
        "c = float(input('enter c '))\n",
        "x0 = float(input('enter x0 '))\n",
        "v0 = float(input('enter v0 '))"
      ]
    },
    {
      "cell_type": "code",
      "source": [
        "from math import *\n",
        "d = b**2 - 4*a*c"
      ],
      "metadata": {
        "id": "pML0d2K_oXH2"
      },
      "execution_count": 62,
      "outputs": []
    },
    {
      "cell_type": "code",
      "source": [
        "A = b/2*a\n",
        "B = sqrt(abs((b**2/4*a**2) - c/a))\n",
        "l1 = -A + B\n",
        "l2 = -A - B\n",
        "if l1 != l2:\n",
        "  d1 = (v0 - l2*x0)/(l1 - l2)\n",
        "  d2 = (v0 - l1*x0)/(l2 - l1)\n",
        "l = l1\n",
        "\n",
        "\n"
      ],
      "metadata": {
        "id": "dc-6La3IpfkX"
      },
      "execution_count": 63,
      "outputs": []
    },
    {
      "cell_type": "code",
      "source": [
        "tlist = [i/10 for i in range(100)]"
      ],
      "metadata": {
        "id": "bDOpcXrcyS2f"
      },
      "execution_count": null,
      "outputs": []
    },
    {
      "cell_type": "code",
      "source": [
        "\n",
        "if d < 0:\n",
        "  #print('under damped')\n",
        "  xlist = []\n",
        "  for t in tlist:\n",
        "    x = exp(-A*t)*(x0*cos(B*t) + (v0 + A*x0)/B * sin(B*t))\n",
        "    xlist.append(x)\n",
        "elif d == 0:\n",
        "  #print('critically damped')\n",
        "  xlist = []\n",
        "  for t in tlist:\n",
        "    x = (x0 + (v0 - l*x0)*t)*exp(-A*t)\n",
        "    xlist.append(x)\n",
        "else:\n",
        "  #print('over damped')\n",
        "  xlist = []\n",
        "  for t in tlist:\n",
        "    x = d1*exp(l1*t) + d2*exp(l2*t)\n",
        "    xlist.append(x)\n",
        "\n",
        " \n",
        "\n"
      ],
      "metadata": {
        "id": "5bHAJ8bkpfzh"
      },
      "execution_count": 64,
      "outputs": []
    },
    {
      "cell_type": "code",
      "source": [
        "import matplotlib.pyplot as plt\n",
        "plt.plot(tlist,  xlist)\n"
      ],
      "metadata": {
        "colab": {
          "base_uri": "https://localhost:8080/",
          "height": 282
        },
        "id": "G5I-eG3DEsc7",
        "outputId": "0894b520-7c9d-4264-b83b-b76a2516034e"
      },
      "execution_count": 65,
      "outputs": [
        {
          "output_type": "execute_result",
          "data": {
            "text/plain": [
              "[<matplotlib.lines.Line2D at 0x7fcf52b13b20>]"
            ]
          },
          "metadata": {},
          "execution_count": 65
        },
        {
          "output_type": "display_data",
          "data": {
            "text/plain": [
              "<Figure size 432x288 with 1 Axes>"
            ],
            "image/png": "[encoded data removed]"
          },
          "metadata": {
            "needs_background": "light"
          }
        }
      ]
    }
  ]
}