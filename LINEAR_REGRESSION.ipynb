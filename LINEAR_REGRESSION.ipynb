{
  "cells": [
    {
      "cell_type": "markdown",
      "metadata": {
        "id": "view-in-github",
        "colab_type": "text"
      },
      "source": [
        "<a href=\"https://colab.research.google.com/github/Deependrashukla/calculus2/blob/main/LINEAR_REGRESSION.ipynb\" target=\"_parent\"><img src=\"https://colab.research.google.com/assets/colab-badge.svg\" alt=\"Open In Colab\"/></a>"
      ]
    },
    {
      "cell_type": "markdown",
      "metadata": {
        "id": "NGzcJ-oqsnzZ"
      },
      "source": [
        "# `Linear Regression`\n",
        "$$ y_i = mx_i + c + ϵ_i$$\n",
        "ϵ exists for  error measurment\n",
        "$$ SE = \\sum(y_i - mx_i - c)^2 $$\n",
        "SE = Summation of errors, now we will find m and c such that SE is minimized\n",
        "$$ \\frac{\\partial SE}{\\partial m} = 0 $$  \n",
        " $$\\frac{\\partial SE}{\\partial m} = 0 $$  \n",
        "By solving these equation m and c are\n",
        "$$ m = \\frac{n∑ x_iy_i - ∑x_i∑y_i}{-∑x_i∑x_i + n∑x^2_i} $$.\n",
        "$$ c = \\frac{∑ x_iy_i∑x_i - ∑y_i∑x^2_i}{∑x_i∑x_i - n∑x^2_i} $$\n",
        "\n",
        "\n",
        "\n",
        "\n",
        "\n",
        "\n"
      ]
    },
    {
      "cell_type": "code",
      "execution_count": null,
      "metadata": {
        "id": "rlMH9dfytgzu"
      },
      "outputs": [],
      "source": [
        "import matplotlib.pyplot as plt\n",
        "import math\n",
        "import random"
      ]
    },
    {
      "cell_type": "code",
      "execution_count": null,
      "metadata": {
        "colab": {
          "base_uri": "https://localhost:8080/"
        },
        "id": "EI6EfBN6jlh8",
        "outputId": "b17b80da-1932-4832-ce1e-a312731b35a6"
      },
      "outputs": [
        {
          "output_type": "stream",
          "name": "stdout",
          "text": [
            "[-9.079231236626132, 18.62579217583543, 6.081494693469374, -4.731003495047368, 4.801145747133546, 12.720321034829407, -5.346322245620286, 19.556393344968804, -2.790496677070699, 25.133378571955593, 5.051907623812475, 4.043094204101617, 40.50208465525836, 23.02570986190169, 16.3725772546748, 35.46250686979333, 33.20171162742853, 41.75467493042146, 32.95239839581496, 64.83852716653166, 56.01879911804373, 39.97917459324879, 52.1654806334571, 35.42825248014598, 47.388415478599576, 64.81868435483557, 62.16560938445884, 56.615874704622506, 50.66171271514739, 84.09746685804123, 67.71854380995542, 75.2335518155649, 67.16837159950667, 49.59958150323136, 59.730441384052625, 86.31241182699651, 74.92102830089966, 53.17850566180613, 94.58577128768462, 86.97036027862046, 83.15659138972246, 104.55309191345259, 84.1517446472329, 90.59221102713327, 80.02885371856522, 79.79672065381725, 82.29729025625305, 108.47181940207592, 111.529765044982, 95.89085775183003, 107.0251709671462, 126.56356842689289, 89.87404796532266, 88.55982979377637, 116.57332558641468, 119.75412392139309, 100.29943073285087, 120.12392767932678, 99.63001142430515, 142.0741703741446, 111.52953795935618, 142.69941107099237, 109.38449779731965, 143.402356098439, 127.29475481102146, 118.84505468489664, 158.43749444160085, 134.91147475093894, 122.76445304995242, 116.8046486330247, 156.2034663059407, 123.00490219183126, 162.68638554074974, 154.4817582387256, 156.25953897252336, 163.22244499779782, 137.00423434970733, 158.3949153162668, 146.65570739662564, 139.61086770756916, 180.58975694906948, 157.94837554673862, 167.2999962994382, 180.63809872541228, 191.92432997432462, 178.23922095331994, 198.78369184546366, 170.00425535497266, 179.62950125830525, 183.2093810432798, 159.37002820986044, 170.00015896027776, 162.54184606221182, 183.51865167601994, 171.49818941816892, 174.37249589645688, 192.30032044670972, 174.77710637055458, 222.19089854578849, 215.22151942853037]\n"
          ]
        }
      ],
      "source": [
        "# Taking m = 2 and c = 1\n",
        "y_lst = [] # list of y\n",
        "for x in range (1,101):\n",
        "  y = 2*x + 1 + (random.random() - 0.5)*50 # output with error\n",
        "  y_lst.append(y)\n",
        "print(y_lst)"
      ]
    },
    {
      "cell_type": "code",
      "execution_count": null,
      "metadata": {
        "id": "WEAy_uBllvgP"
      },
      "outputs": [],
      "source": [
        "# to calculate avg of xy\n",
        "x_lst = [x for x in range(1,101)]\n",
        "lst_xy = []\n",
        "for i in range(100):\n",
        "  value = (x_lst[i]*y_lst[i])\n",
        "  lst_xy.append(value)\n"
      ]
    },
    {
      "cell_type": "code",
      "execution_count": null,
      "metadata": {
        "id": "Mm_qPKKvo2cM"
      },
      "outputs": [],
      "source": [
        "# func to sum element of lst\n",
        "def sum(lst):\n",
        "  '''Return sum element of lst\n",
        "  parameter lst: lst is any list\n",
        "  precondition: lst should contain only numbers '''\n",
        "  y = 0\n",
        "  for i in lst:\n",
        "    y += i\n",
        "  return y\n"
      ]
    },
    {
      "cell_type": "code",
      "execution_count": null,
      "metadata": {
        "id": "igo__ZzyrZ2H"
      },
      "outputs": [],
      "source": [
        "x_square = []\n",
        "for i in x_lst:\n",
        "  x_square.append(i*i)\n"
      ]
    },
    {
      "cell_type": "code",
      "execution_count": null,
      "metadata": {
        "colab": {
          "base_uri": "https://localhost:8080/"
        },
        "id": "QHwb0r2VpRTj",
        "outputId": "71bd503b-ddf3-48d8-b568-efad696f0f09"
      },
      "outputs": [
        {
          "output_type": "stream",
          "name": "stdout",
          "text": [
            "1.9974770343630885\n",
            "-0.31722041284288593\n"
          ]
        }
      ],
      "source": [
        "# calculating average, help in finding value of m and c.\n",
        "avg_xy = sum(lst_xy)/100\n",
        "avg_x = sum(x_lst)/100\n",
        "avg_y = sum(y_lst)/100\n",
        "avg_x_square = sum(x_square)/100\n",
        "m = (avg_xy - avg_x * avg_y) / (avg_x_square - (avg_x)**2)\n",
        "c = (avg_y - m * avg_x)\n",
        "print(str(m) + '\\n' + str(c))"
      ]
    },
    {
      "cell_type": "code",
      "execution_count": null,
      "metadata": {
        "id": "eemQgGeWwmrL"
      },
      "outputs": [],
      "source": [
        "correct_y_lst = []\n",
        "for x in x_lst:\n",
        "  y = m*x + c\n",
        "  correct_y_lst.append(y)"
      ]
    },
    {
      "cell_type": "code",
      "execution_count": null,
      "metadata": {
        "colab": {
          "base_uri": "https://localhost:8080/",
          "height": 265
        },
        "id": "ED5oYfcHxO7g",
        "outputId": "33d6665e-1f1b-4079-94e6-61f177d71231"
      },
      "outputs": [
        {
          "data": {
            "image/png": "[encoded data removed]",
            "text/plain": [
              "<Figure size 432x288 with 1 Axes>"
            ]
          },
          "metadata": {},
          "output_type": "display_data"
        }
      ],
      "source": [
        "plt.plot(x_lst, correct_y_lst, label =  'x and y graph without error ')\n",
        "plt.plot(x_lst, y_lst, label =  'x and y graph with error ')\n",
        "plt.legend()\n",
        "plt.show()"
      ]
    },
    {
      "cell_type": "markdown",
      "metadata": {
        "id": "ivROLnBIzBGT"
      },
      "source": [
        "# Second question\n",
        "$$!! \\quad LINEAR \\quad REGRESSION \\quad FOR \\quad EXPONENTIAL \\quad EQUATION \\quad !!$$\n",
        "$$y_{i} = β\\cdot e^{γx_{i} + ϵ_{i}}$$\n",
        "To solve this by linear regression first of all convert it into linear equation by taking log on both side:$$\\log{y_{i}} =  \\log{β} + γ\\cdot x_{i} + ϵ_{i}$$consider  $ \\quad y_{i}^{new}= \\log{y_{i}}, \\quad c = \\log{β} \\quad and \\quad m = γ$\n",
        "\n",
        "with this new terms apply linear regression method to find $β$ and $γ$.\n"
      ]
    },
    {
      "cell_type": "code",
      "execution_count": null,
      "metadata": {
        "colab": {
          "base_uri": "https://localhost:8080/"
        },
        "id": "jp55hWtry9UW",
        "outputId": "5e187d69-7f32-4dc5-b4ef-f6d7243fbd25"
      },
      "outputs": [
        {
          "name": "stdout",
          "output_type": "stream",
          "text": [
            "[11.221824753122268, 7.572419430943919, 7.039970603088036, 6.28834958583167, 10.88192128773871, 6.671160043094083, 10.425188683875733, 6.779636226943128, 9.779605724094452, 14.720328361762583, 8.641880416740612, 9.992227834545098, 15.199183490804705, 11.562881559114135, 13.806397193143743, 20.885534018651594, 16.687229175999235, 22.494459322026888, 26.556105156784422, 28.656623274044044, 24.606983749605078, 14.156958375832666, 38.26113679453659, 31.782473113187592, 25.756312406440035, 26.679107166596744, 38.977158573082235, 30.356024411637865, 38.955909810947816, 43.105855255000925, 36.33297416117008, 42.57107641767101, 48.77421883083524, 31.860877102823913, 37.924797315174295, 67.47769694563661, 32.37424467298036, 39.672717761183904, 35.83107048421468, 84.4085970175488, 83.91600059991168, 52.10112156437098, 72.73938691791739, 98.49200650332523, 47.274259409269874, 111.15580498086968, 80.65258340845776, 110.99033977477936, 57.986195011396774, 94.78794418915612, 78.3071370768267, 152.07282009797473, 93.98610278969645, 80.82161918333018, 140.16794183207213, 112.38547808577513, 169.31158063862762, 91.12903711170233, 122.23899697593038, 97.33521112941891, 136.18441041763276, 211.42434822957253, 204.7065900121264, 274.0535263257646, 292.6706298772441, 318.6983139020675, 132.00422213916076, 165.5660253635519, 278.13280188811024, 276.8652317480525, 387.22659050473357, 219.53333659278857, 303.6127744230048, 260.2695914468844, 393.4615730332445, 213.56250953105405, 243.7506161531672, 416.36308457253773, 503.0767467946801, 447.36059884765905, 289.2993759125295, 286.2550327901615, 769.8784824501757, 354.08203518770773, 322.127858358755, 348.6024814018126, 463.5148376308495, 625.8100103014468, 445.9800416745761, 458.40478046150287, 1070.5226911635034, 1162.3587400758713, 684.3611665695306, 939.7729792730983, 616.7281398572062, 1402.6336380606958, 1436.034307263902, 1034.6526028495537, 1710.2068261916666, 964.9936417625988]\n"
          ]
        }
      ],
      "source": [
        "# Taking gama = 2 and log(beta) = 1\n",
        "y_lst = [] # list of y\n",
        "for x in range (1,101):\n",
        "  y = 0.05*x + 2 + (random.random() - 0.5)\n",
        "  y_lst.append(math.exp(y))\n",
        "print(y_lst)"
      ]
    },
    {
      "cell_type": "code",
      "execution_count": null,
      "metadata": {
        "colab": {
          "base_uri": "https://localhost:8080/",
          "height": 265
        },
        "id": "v5cJTGGaRYKq",
        "outputId": "8a31bf1a-7e94-405d-f70e-914592d31c2c"
      },
      "outputs": [
        {
          "data": {
            "image/png": "[encoded data removed]",
            "text/plain": [
              "<Figure size 432x288 with 1 Axes>"
            ]
          },
          "metadata": {},
          "output_type": "display_data"
        }
      ],
      "source": [
        "plt.plot(x_lst, y_lst, label =  'x and y graph with error ')\n",
        "plt.legend()\n",
        "plt.show()"
      ]
    },
    {
      "cell_type": "code",
      "execution_count": null,
      "metadata": {
        "id": "XHuGtANWg0kq"
      },
      "outputs": [],
      "source": [
        "z_lst = []\n",
        "for i in y_lst:\n",
        "  z_lst.append(math.log(i))"
      ]
    },
    {
      "cell_type": "code",
      "execution_count": null,
      "metadata": {
        "colab": {
          "base_uri": "https://localhost:8080/"
        },
        "id": "EIXdrGVz9FIQ",
        "outputId": "d7def5dd-3e23-40a5-a4d8-1cef8c0e1246"
      },
      "outputs": [
        {
          "name": "stdout",
          "output_type": "stream",
          "text": [
            "100\n"
          ]
        }
      ],
      "source": [
        "# to calculate avg of xy\n",
        "x_lst = [x for x in range(1,101)]\n",
        "lst_xz = []\n",
        "for i in range(100):\n",
        "  value = (x_lst[i]*z_lst[i])\n",
        "  lst_xz.append(value)\n",
        "print(len(lst_xz))"
      ]
    },
    {
      "cell_type": "code",
      "execution_count": null,
      "metadata": {
        "colab": {
          "base_uri": "https://localhost:8080/"
        },
        "id": "U0MsOlP31TaU",
        "outputId": "456508e3-9fa2-4766-a3ba-adbe8d4746f2"
      },
      "outputs": [
        {
          "name": "stdout",
          "output_type": "stream",
          "text": [
            "0.050193388226163586 1.9996821351339915\n",
            "7.386707750852281\n"
          ]
        }
      ],
      "source": [
        "avg_xz = sum(lst_xz)/100\n",
        "avg_x = sum(x_lst)/100\n",
        "avg_z = sum(z_lst)/100\n",
        "avg_x_square = sum(x_square)/100\n",
        "m = (avg_xz - avg_x * avg_z) / (avg_x_square - (avg_x)**2)\n",
        "c = (avg_z - m * avg_x)\n",
        "print(m,c)\n",
        "bita = math.exp(c)\n",
        "gama = m\n",
        "print(bita)\n"
      ]
    },
    {
      "cell_type": "code",
      "execution_count": null,
      "metadata": {
        "id": "jcNyjbNyhXNw"
      },
      "outputs": [],
      "source": [
        "new_y_lst = []\n",
        "for i in range(100):\n",
        "  y = bita*math.exp(gama*x_lst[i])\n",
        "  new_y_lst.append(y)"
      ]
    },
    {
      "cell_type": "code",
      "execution_count": null,
      "metadata": {
        "colab": {
          "background_save": true
        },
        "id": "UhYz6o-Xy8tb",
        "outputId": "635fadcb-baa7-491b-b812-1355747314c2"
      },
      "outputs": [
        {
          "data": {
            "image/png": "[encoded data removed]",
            "text/plain": [
              "<Figure size 432x288 with 1 Axes>"
            ]
          },
          "metadata": {},
          "output_type": "display_data"
        }
      ],
      "source": [
        "plt.plot(x_lst, y_lst, label =  'x and y graph without error ',color = 'red')\n",
        "plt.plot(x_lst, new_y_lst, label =  'x and y graph with error ', color = 'pink')\n",
        "plt.legend()\n",
        "plt.show()"
      ]
    },
    {
      "cell_type": "markdown",
      "source": [],
      "metadata": {
        "id": "4ixO2vdyipi6"
      }
    },
    {
      "cell_type": "code",
      "source": [],
      "metadata": {
        "id": "CJGhmJmnirpB"
      },
      "execution_count": null,
      "outputs": []
    }
  ],
  "metadata": {
    "colab": {
      "provenance": [],
      "authorship_tag": "ABX9TyPw3yIYxh4FeciCnvb8LFAH",
      "include_colab_link": true
    },
    "kernelspec": {
      "display_name": "Python 3",
      "name": "python3"
    },
    "language_info": {
      "name": "python"
    }
  },
  "nbformat": 4,
  "nbformat_minor": 0
}